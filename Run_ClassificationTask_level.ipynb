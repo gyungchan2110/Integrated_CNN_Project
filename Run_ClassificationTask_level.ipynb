{
 "cells": [
  {
   "cell_type": "code",
   "execution_count": 1,
   "metadata": {},
   "outputs": [
    {
     "name": "stderr",
     "output_type": "stream",
     "text": [
      "/home/gyungchan2110/gyungchan2110_python3/lib/python3.4/importlib/_bootstrap.py:321: FutureWarning: Conversion of the second argument of issubdtype from `float` to `np.floating` is deprecated. In future, it will be treated as `np.float64 == np.dtype(float).type`.\n",
      "  return f(*args, **kwds)\n",
      "Using TensorFlow backend.\n"
     ]
    },
    {
     "name": "stdout",
     "output_type": "stream",
     "text": [
      "/data/gyungchan2110/Segmentation/Generated_Data_20180410_191400_Seg_Base/Imgs/train\n",
      "train 1209\n",
      " : --- 68.88090586662292 seconds ---\n",
      "/data/gyungchan2110/Segmentation/Generated_Data_20180410_191400_Seg_Base/Imgs/validation\n",
      "validation 401\n",
      " : --- 23.148021936416626 seconds ---\n",
      "/data/gyungchan2110/Segmentation/Generated_Data_20180410_191400_Seg_Base/Imgs/test\n",
      "test 410\n",
      " : --- 23.17786931991577 seconds ---\n"
     ]
    }
   ],
   "source": [
    "from Util import prepare_Task, TaskID_Generator\n",
    "import os \n",
    "from Config import DataSetConfig, ModelConfig\n",
    "import ClassificationTask_Level \n",
    "import DataSet\n",
    "import numpy as np\n",
    "\n",
    "Classes = []\n",
    "configs = []\n",
    "\n",
    "Name = \"Cardiomegaly\"\n",
    "Task = \"Segmentation\"\n",
    "DataSetPath = \"Generated_Data_20180410_191400_Seg_Base/Imgs\"\n",
    "\n",
    "Classes.append(\"Tx\")\n",
    "\n",
    "GPU_Num, BaseDataPath = prepare_Task(Task)\n",
    "dataConfig = DataSetConfig(Name, (256,256,1), Classes, DataSetPath)\n",
    "os.environ[\"CUDA_VISIBLE_DEVICES\"] = GPU_Num\n",
    "#configs.append(config)\n",
    "\n",
    "train_data, train_files, train_labels, mean,std = DataSet.get_Data_Set_Level(dataConfig, BaseDataPath,\"train\")\n",
    "valid_data, valid_files, valid_labels, _,_ = DataSet.get_Data_Set_Level(dataConfig, BaseDataPath,\"validation\")\n",
    "test_data, valid_files, test_labels, _ , _= DataSet.get_Data_Set_Level(dataConfig, BaseDataPath,\"test\")\n",
    "train_data = np.asarray(train_data)\n",
    "train_data -= mean\n",
    "valid_data -= mean\n",
    "test_data -= mean\n",
    "\n",
    "train_data /= std\n",
    "valid_data /= std\n",
    "test_data /= std\n"
   ]
  },
  {
   "cell_type": "code",
   "execution_count": 2,
   "metadata": {},
   "outputs": [
    {
     "name": "stdout",
     "output_type": "stream",
     "text": [
      "3\n",
      "Train_20180509_114727\n",
      "152 51\n",
      "Error when checking input: expected input_1 to have 4 dimensions, but got array with shape (256, 256, 1)\n",
      "Train Done ! \n"
     ]
    },
    {
     "ename": "NameError",
     "evalue": "name 'Train_TaskIDs' is not defined",
     "output_type": "error",
     "traceback": [
      "\u001b[0;31m---------------------------------------------------------------------------\u001b[0m",
      "\u001b[0;31mNameError\u001b[0m                                 Traceback (most recent call last)",
      "\u001b[0;32m<ipython-input-2-75168593136a>\u001b[0m in \u001b[0;36m<module>\u001b[0;34m()\u001b[0m\n\u001b[1;32m     47\u001b[0m     \u001b[0mresult\u001b[0m \u001b[0;34m,\u001b[0m \u001b[0mfilename\u001b[0m \u001b[0;34m=\u001b[0m \u001b[0mClassificationTask_Level\u001b[0m\u001b[0;34m.\u001b[0m\u001b[0mTrain_DataSet\u001b[0m\u001b[0;34m(\u001b[0m\u001b[0mTaskID\u001b[0m\u001b[0;34m,\u001b[0m \u001b[0mBaseDataPath\u001b[0m\u001b[0;34m,\u001b[0m \u001b[0mdataConfig\u001b[0m\u001b[0;34m,\u001b[0m \u001b[0mModelConfigs\u001b[0m\u001b[0;34m[\u001b[0m\u001b[0mi\u001b[0m\u001b[0;34m]\u001b[0m\u001b[0;34m,\u001b[0m \u001b[0mtrain_data\u001b[0m\u001b[0;34m,\u001b[0m \u001b[0mvalid_data\u001b[0m\u001b[0;34m,\u001b[0m \u001b[0mtrain_labels\u001b[0m\u001b[0;34m,\u001b[0m \u001b[0mvalid_labels\u001b[0m\u001b[0;34m)\u001b[0m\u001b[0;34m\u001b[0m\u001b[0m\n\u001b[1;32m     48\u001b[0m     \u001b[0mtrainID\u001b[0m \u001b[0;34m=\u001b[0m \u001b[0;34m\"Train_\"\u001b[0m \u001b[0;34m+\u001b[0m \u001b[0mTaskID\u001b[0m\u001b[0;34m\u001b[0m\u001b[0m\n\u001b[0;32m---> 49\u001b[0;31m     \u001b[0mTrain_TaskIDs\u001b[0m\u001b[0;34m.\u001b[0m\u001b[0mappend\u001b[0m\u001b[0;34m(\u001b[0m\u001b[0mtrainID\u001b[0m\u001b[0;34m)\u001b[0m\u001b[0;34m\u001b[0m\u001b[0m\n\u001b[0m\u001b[1;32m     50\u001b[0m     \u001b[0;32mif\u001b[0m\u001b[0;34m(\u001b[0m\u001b[0mresult\u001b[0m\u001b[0;34m)\u001b[0m\u001b[0;34m:\u001b[0m\u001b[0;34m\u001b[0m\u001b[0m\n\u001b[1;32m     51\u001b[0m         \u001b[0mClassificationTask_Level\u001b[0m\u001b[0;34m.\u001b[0m\u001b[0mTest_Dataset\u001b[0m\u001b[0;34m(\u001b[0m\u001b[0mTaskID\u001b[0m\u001b[0;34m,\u001b[0m \u001b[0mBaseDataPath\u001b[0m\u001b[0;34m,\u001b[0m \u001b[0mdataConfig\u001b[0m\u001b[0;34m,\u001b[0m \u001b[0mfilename\u001b[0m\u001b[0;34m,\u001b[0m \u001b[0mtest_data\u001b[0m\u001b[0;34m,\u001b[0m \u001b[0mtest_labels\u001b[0m\u001b[0;34m)\u001b[0m\u001b[0;34m\u001b[0m\u001b[0m\n",
      "\u001b[0;31mNameError\u001b[0m: name 'Train_TaskIDs' is not defined"
     ]
    }
   ],
   "source": [
    "import tensorflow as tf \n",
    "config = tf.ConfigProto()\n",
    "config.gpu_options.allow_growth=True\n",
    "sess = tf.Session(config=config)\n",
    "\n",
    "ModelConfigs = []\n",
    "\n",
    "# config = ModelConfig(Name, \"XCEPTION\", \"ADAM\",16, 1e-5)\n",
    "# config.HEIGHT_SHIFT_RANGE = 0.25\n",
    "# config.WIDTH_SHIFT_RANGE = 0.1\n",
    "# config.ROTATION_RANGE = 0\n",
    "# config.ZOOM_RANGE = 0.06\n",
    "# ModelConfigs.append(config)\n",
    "\n",
    "config = ModelConfig(Name, \"CNN6Layers\", \"SGD\",8, 1e-4)\n",
    "config.HEIGHT_SHIFT_RANGE = 0.25\n",
    "config.WIDTH_SHIFT_RANGE = 0.1\n",
    "config.ROTATION_RANGE = 0\n",
    "config.ZOOM_RANGE = 0.06\n",
    "config.LOSS = \"mean_squared_error\"\n",
    "ModelConfigs.append(config)\n",
    "\n",
    "#ModelConfigs.append(config)\n",
    "\n",
    "\n",
    "# for i in range(10):\n",
    "#     for j in range(10):\n",
    "#         for k in range(10):\n",
    "#             for m in range(10):\n",
    "#                 config = ModelConfig(Name, \"XCEPTION\", \"ADAM\",16, 1e-4)\n",
    "#                 config.ROTATION_RANGE = i * 2\n",
    "#                 config.WIDTH_SHIFT_RANGE = 0.05*j\n",
    "#                 config.HEIGHT_SHIFT_RANGE = 0.05*k\n",
    "#                 config.ZOOM_RANGE = 0.01*m\n",
    "\n",
    "#                 ModelConfigs.append(config)\n",
    "    \n",
    "# Train_TaskIDs = []\n",
    "\n",
    "\n",
    "for i in range(len(ModelConfigs)):\n",
    "    GPU_Num, BaseDataPath = prepare_Task(\"Classification\")\n",
    "    TaskID = TaskID_Generator() \n",
    "    os.environ[\"CUDA_VISIBLE_DEVICES\"] = GPU_Num\n",
    "    os.environ['TF_CPP_MIN_LOG_LEVEL'] = '3'\n",
    "    print(GPU_Num)\n",
    "    result , filename = ClassificationTask_Level.Train_DataSet(TaskID, BaseDataPath, dataConfig, ModelConfigs[i], train_data, valid_data, train_labels, valid_labels)\n",
    "    trainID = \"Train_\" + TaskID\n",
    "    Train_TaskIDs.append(trainID)\n",
    "    if(result):\n",
    "        ClassificationTask_Level.Test_Dataset(TaskID, BaseDataPath, dataConfig, filename, test_data, test_labels)"
   ]
  },
  {
   "cell_type": "code",
   "execution_count": null,
   "metadata": {},
   "outputs": [],
   "source": [
    "for Train_TaskID in Train_TaskIDs: \n",
    "    ModelsFolder = BaseDataPath + \"/LOGS/logs/\" + Train_TaskID\n",
    "\n",
    "    filenames = os.listdir(ModelsFolder)\n",
    "    count = 0\n",
    "    print(filenames)\n",
    "    for filename in filenames:\n",
    "        full_filename = os.path.join(ModelsFolder, filename)\n",
    "        ext = os.path.splitext(full_filename)[-1]\n",
    "        if ext == '.hdf5': \n",
    "            ModelFile = Train_TaskID + \"/\" + filename\n",
    "            GPU_Num, BaseDataPath = prepare_Task(\"Classification\")\n",
    "            TaskID = TaskID_Generator() \n",
    "            os.environ[\"CUDA_VISIBLE_DEVICES\"] = GPU_Num\n",
    "            print(filename)\n",
    "            ClassificationTask.Test_Dataset(TaskID, BaseDataPath, dataConfig, ModelFile, test_data, test_labels, True)\n"
   ]
  },
  {
   "cell_type": "code",
   "execution_count": null,
   "metadata": {},
   "outputs": [],
   "source": []
  }
 ],
 "metadata": {
  "kernelspec": {
   "display_name": "Python 3",
   "language": "python",
   "name": "python3"
  },
  "language_info": {
   "codemirror_mode": {
    "name": "ipython",
    "version": 3
   },
   "file_extension": ".py",
   "mimetype": "text/x-python",
   "name": "python",
   "nbconvert_exporter": "python",
   "pygments_lexer": "ipython3",
   "version": "3.4.3"
  }
 },
 "nbformat": 4,
 "nbformat_minor": 2
}
